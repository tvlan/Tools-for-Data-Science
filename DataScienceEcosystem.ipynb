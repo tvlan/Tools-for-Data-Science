{
 "cells": [
  {
   "cell_type": "markdown",
   "id": "b90c6b08-1eb5-4cd9-a02e-f1e15db20c3f",
   "metadata": {},
   "source": [
    "# Data Science Tools and Ecosystem"
   ]
  },
  {
   "cell_type": "markdown",
   "id": "3497b1fd-2993-4832-951d-b99777972c4a",
   "metadata": {},
   "source": [
    "In this notebook, Data Science Tools and Ecosystem are summarized."
   ]
  },
  {
   "cell_type": "markdown",
   "id": "9cfb2ac1-335c-4e06-8ac2-d05ce5add76e",
   "metadata": {},
   "source": [
    "* Some of the popular languages that Data Scientists use are:\n",
    "    1. Python\n",
    "    2. R\n",
    "    3. SQL"
   ]
  },
  {
   "cell_type": "markdown",
   "id": "d1ee5152-b486-4850-833c-4fc1fd79c102",
   "metadata": {},
   "source": [
    "* Some of the commonly used libraries used by Data Scientists include:\n",
    "    1. Pandas\n",
    "    2. Matplotlib\n",
    "    3. ggplot\n",
    "    4. Numpy"
   ]
  },
  {
   "cell_type": "markdown",
   "id": "6fd4cd09-3f98-4030-a081-37078ec7f45c",
   "metadata": {
    "tags": []
   },
   "source": [
    "| Data Science Tools |\n",
    "|--------------------|\n",
    "| Jupyter Notebook   |\n",
    "| RStudio            |\n",
    "| Spyder             |\n"
   ]
  },
  {
   "cell_type": "markdown",
   "id": "8d1e1846-6796-4db9-8ce1-50b26c3b90a2",
   "metadata": {},
   "source": [
    "### Below are a few examples of evaluating arithmetic expressions in Python"
   ]
  },
  {
   "cell_type": "code",
   "execution_count": 3,
   "id": "5c97243a-3f93-42fc-bac1-f401f7d10d20",
   "metadata": {
    "tags": []
   },
   "outputs": [
    {
     "data": {
      "text/plain": [
       "17"
      ]
     },
     "execution_count": 3,
     "metadata": {},
     "output_type": "execute_result"
    }
   ],
   "source": [
    "#This a simple arithmetic expression to mutiply then add integers\n",
    "\n",
    "(3*4)+5"
   ]
  },
  {
   "cell_type": "code",
   "execution_count": 10,
   "id": "3da3db1f-eee4-4b01-84e3-3d9a82be3587",
   "metadata": {
    "tags": []
   },
   "outputs": [
    {
     "name": "stdout",
     "output_type": "stream",
     "text": [
      "3.3333333333333335 hr\n"
     ]
    }
   ],
   "source": [
    "#This will convert 200 minutes to hours by diving by 60\n",
    "\n",
    "min = 200\n",
    "hrs = min/60\n",
    "print(f\"{hrs} hr\")\n",
    "\n"
   ]
  },
  {
   "cell_type": "markdown",
   "id": "f426bd4c-5697-4607-a204-a76f31ad95b5",
   "metadata": {},
   "source": [
    "* **Objectives:**\n",
    "    * Julia\n",
    "    * Rednode\n",
    "    * Oracleds"
   ]
  },
  {
   "cell_type": "markdown",
   "id": "4105c3ac-079c-4c1c-8fd4-4e4b08624c95",
   "metadata": {},
   "source": [
    "## Author\n",
    "Tvlan"
   ]
  },
  {
   "cell_type": "code",
   "execution_count": null,
   "id": "abae056a-07c2-4dd0-bb99-14c259e059b9",
   "metadata": {},
   "outputs": [],
   "source": []
  }
 ],
 "metadata": {
  "kernelspec": {
   "display_name": "Python",
   "language": "python",
   "name": "conda-env-python-py"
  },
  "language_info": {
   "codemirror_mode": {
    "name": "ipython",
    "version": 3
   },
   "file_extension": ".py",
   "mimetype": "text/x-python",
   "name": "python",
   "nbconvert_exporter": "python",
   "pygments_lexer": "ipython3",
   "version": "3.7.12"
  }
 },
 "nbformat": 4,
 "nbformat_minor": 5
}
